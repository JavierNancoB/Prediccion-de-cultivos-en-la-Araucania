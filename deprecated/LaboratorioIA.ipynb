{
 "cells": [
  {
   "cell_type": "markdown",
   "id": "71a0eac2-cf38-421c-b738-276c7b5a8a5a",
   "metadata": {},
   "source": [
    "# Proyecto de laboratorio N°1"
   ]
  },
  {
   "cell_type": "markdown",
   "id": "f491a80b-c903-4605-b62e-f1583f3146b2",
   "metadata": {},
   "source": [
    "Grupo: 1\n",
    "\n",
    "Estudiantes:\n",
    "\n",
    "-Constanza Olivos Fernandez\n",
    "\n",
    "-Javier Nanco Becerra\n",
    "\n",
    "-Nicolás Pozo Villagrán\n",
    "\n",
    "Fecha: 17-09-2025"
   ]
  },
  {
   "cell_type": "markdown",
   "id": "34d29ca9-de17-4e44-aafe-a3857ae67c5b",
   "metadata": {},
   "source": [
    "# **Objetivos del notebook**"
   ]
  },
  {
   "cell_type": "markdown",
   "id": "a337b287-ec85-40c9-bee2-714df3bb9bf1",
   "metadata": {},
   "source": [
    "El objetivo de este notebook es desarrollar un flujo completo de análisis predictivo orientado a estimar el rendimiento del trigo (kg/ha) a partir de variables agroclimáticas, edáficas y de manejo agrícola, utilizando un dataset existente (features_trigo.csv). Este dataset fue preprocesado aplicando transformaciones como codificación de variables categóricas y normalización de las numéricas, definiendo el rendimiento como variable objetivo del estudio.\n",
    "\n",
    "Posteriormente, se entrenaron distintos modelos de aprendizaje automático con el fin de comparar enfoques y evaluar su desempeño. Se incluyeron modelos clásicos como Regresión Lineal, Ridge, Lasso, Árboles de Decisión, Random Forest, SVR y KNN; modelos modernos como XGBoost, LightGBM y CatBoost; y finalmente un modelo de red neuronal MLP como aproximación de aprendizaje profundo. Cada modelo fue evaluado mediante métricas de regresión ampliamente utilizadas: R² para medir el poder explicativo, RMSE y MAE para cuantificar los errores en las predicciones, y MAPE para expresar el error en términos porcentuales.\n",
    "\n",
    "Además del cálculo de métricas, se realizó un análisis de residuos, graficando los errores en función de los valores predichos, lo que permitió detectar posibles sesgos sistemáticos en las estimaciones. Estos análisis, junto con la comparación de métricas, permitieron seleccionar los modelos más prometedores, considerando no solo su precisión numérica sino también su aplicabilidad en el contexto agrícola.\n",
    "\n",
    "En conjunto, este notebook busca comparar de manera estructurada distintos enfoques de Machine Learning y Deep Learning para determinar cuáles resultan más adecuados para la predicción del rendimiento del trigo. Los resultados obtenidos permiten, además, generar interpretaciones que vinculan los modelos con el conocimiento agronómico, aportando una herramienta de apoyo a la toma de decisiones en la gestión de cultivos."
   ]
  },
  {
   "cell_type": "markdown",
   "id": "bedc6c10-5055-411c-813e-a892969566ea",
   "metadata": {},
   "source": [
    "# 3. Documentación del Proceso de Desarrollo"
   ]
  },
  {
   "cell_type": "markdown",
   "id": "7575fd6f-8853-495c-8bf4-d6a329548125",
   "metadata": {},
   "source": [
    "# AQUI VAN LOS PIP"
   ]
  },
  {
   "cell_type": "code",
   "execution_count": null,
   "id": "0c7372e7-5c8d-4a38-95e0-b8075eedd1de",
   "metadata": {},
   "outputs": [],
   "source": []
  },
  {
   "cell_type": "markdown",
   "id": "249df64e-f780-4434-bf43-88bbada048fa",
   "metadata": {},
   "source": [
    "# 2.4-. README – Features Derivadas – Dataset Sintético de Trigo (La Araucanía)"
   ]
  },
  {
   "cell_type": "markdown",
   "id": "f9ee4e8f-f019-4f64-aee2-181bfff5fe08",
   "metadata": {},
   "source": [
    "## 1. Descripción\n",
    "Este conjunto de **features derivadas** fue creado a partir del dataset sintético de trigo para mejorar la predicción del rendimiento en **invierno y primavera**.  \n",
    "\n",
    "Las variables se construyeron a partir de condiciones climáticas, nutricionales y de manejo agrícola, con el fin de capturar **patrones adicionales de crecimiento, fertilidad y estrés** que no están explícitos en las variables originales.  \n",
    "\n",
    "---\n",
    "\n",
    "## 2. Features derivadas\n",
    "\n",
    "| **Nombre**            | **Tipo**    | **Descripción**                                   | **Cómo se calcula** | **Justificación / Notas** |\n",
    "|------------------------|-------------|---------------------------------------------------|---------------------|---------------------------|\n",
    "| **GDD_norm**           | Numérica    | Grados-día normalizados por radiación solar       | `GDD / Horas_luz`   | Relaciona calor útil con horas de luz, midiendo la eficiencia térmica de cada temporada. |\n",
    "| **Indice_fertilidad**  | Numérica    | Índice ponderado de nutrientes (N, P, K)          | `0.5*N + 0.3*P + 0.2*K` | Resume la fertilización en una métrica única. Los pesos reflejan mayor importancia del Nitrógeno. |\n",
    "| **Clima_reglas**       | Categórica  | Clasificación climática por reglas simples        | Si `Lluvia > 600` y `Temp_media < 18` → `húmedo_frío`; si `Lluvia < 300` y `Temp_media > 20` → `seco_cálido`; sino → `moderado` | Identifica condiciones extremas que afectan el cultivo. |\n",
    "| **Rango_termico_cat**  | Categórica  | Clasificación del rango térmico                   | `<6` = `estable`; `6–10` = `moderado`; `>10` = `variable` | Permite distinguir temporadas con alta o baja amplitud térmica. |\n",
    "| **Labranza_binary**    | Binaria     | Tipo de labranza codificado                       | `1` si convencional, `0` si cero labranza | Facilita el uso de labranza en modelos de ML. |\n",
    "| **Plagas_binary**      | Binaria     | Presencia de plagas                               | `1` si “sí”, `0` si “no” | Convierte un factor cualitativo en cuantitativo. |\n",
    "| **Deficiencia_binary** | Binaria     | Deficiencia nutricional                           | `1` si “sí”, `0` si “no` | Facilita medir impacto de deficiencias. |\n",
    "| **Problema**           | Numérica    | Total de problemas agrícolas                      | `Plagas_binary + Deficiencia_binary` | Resume en un solo indicador el efecto de plagas y deficiencias. |\n",
    "\n",
    "---\n",
    "\n",
    "## 3. Notas generales\n",
    "- Las **features derivadas** enriquecen el dataset y permiten que los modelos de machine learning detecten patrones no lineales.  \n",
    "- Dado que los datos son solo de **invierno y primavera**, no se incluyeron acumulados de lluvia.  \n",
    "- Se recomienda usar las variables originales **junto con estas derivadas** para el entrenamiento.  \n",
    "- Las variables categóricas (`Clima_reglas`, `Rango_termico_cat`) pueden transformarse a **one-hot encoding** si el modelo lo requiere.  \n"
   ]
  },
  {
   "cell_type": "code",
   "execution_count": null,
   "id": "946dac20-24fb-48bf-bf57-59f13f9b0686",
   "metadata": {},
   "outputs": [],
   "source": [
    "import pandas as pd\n",
    "import numpy as np\n",
    "\n",
    "# ========================\n",
    "# Cargar CSV original\n",
    "# ========================\n",
    "df = pd.read_csv('Prueba2.csv', sep=',')\n",
    "\n",
    "# ========================\n",
    "# VARIABLES DERIVADAS BÁSICAS\n",
    "# ========================\n",
    "\n",
    "# 1. Grados-día de crecimiento normalizado por horas de luz\n",
    "df['GDD_norm'] = df['Temp_media'].apply(lambda x: max(x - 10, 0)) / df['Horas_luz']\n",
    "\n",
    "# 2. Fertilidad total ponderada\n",
    "df['Indice_fertilidad'] = 0.5*df['N_kg_ha'] + 0.3*df['P_kg_ha'] + 0.2*df['K_kg_ha']\n",
    "\n",
    "# 3. Categoría de clima según reglas simples\n",
    "def clasificar_clima(row):\n",
    "    if row['Lluvia_mm'] > 600 and row['Temp_media'] < 18:\n",
    "        return 'húmedo_frío'\n",
    "    elif row['Lluvia_mm'] < 300 and row['Temp_media'] > 20:\n",
    "        return 'seco_calido'\n",
    "    else:\n",
    "        return 'moderado'\n",
    "df['Clima_reglas'] = df.apply(clasificar_clima, axis=1)\n",
    "\n",
    "# 4. Rango térmico\n",
    "df['Rango_termico'] = df['Temp_max'] - df['Temp_min']\n",
    "\n",
    "# 5. Rango térmico categorizado\n",
    "def categorizar_rango(rango):\n",
    "    if rango < 6:\n",
    "        return 'estable'\n",
    "    elif rango <= 10:\n",
    "        return 'moderado'\n",
    "    else:\n",
    "        return 'variable'\n",
    "df['Rango_termico_cat'] = df['Rango_termico'].apply(categorizar_rango)\n",
    "\n",
    "# ========================\n",
    "# VARIABLES BINARIAS\n",
    "# ========================\n",
    "df['Labranza_binary'] = df['Labranza'].apply(lambda x: 1 if x=='convencional' else 0)\n",
    "df['Plagas_binary'] = df['Plagas'].apply(lambda x: 1 if x=='sí' else 0)\n",
    "df['Deficiencia_binary'] = df['Deficiencia'].apply(lambda x: 1 if x=='sí' else 0)\n",
    "df['Problema'] = df['Plagas_binary'] + df['Deficiencia_binary']\n",
    "\n",
    "# ========================\n",
    "# Guardar CSV final con todas las features derivadas\n",
    "# ========================\n",
    "df.to_csv('a.csv', index=False)\n",
    "print(\"✅ CSV con features derivadas creado y listo para modelos de ML.\")\n"
   ]
  },
  {
   "cell_type": "markdown",
   "id": "c703b9a3-a99f-4602-a11c-4f1974dbfaf7",
   "metadata": {},
   "source": [
    "# FASE 3"
   ]
  },
  {
   "cell_type": "code",
   "execution_count": 7,
   "id": "877cc48f-18e2-431d-989e-35286c95b2e4",
   "metadata": {},
   "outputs": [],
   "source": [
    "# Cargar dataset\n",
    "df = pd.read_csv(\"Prueba2.csv\")"
   ]
  },
  {
   "cell_type": "code",
   "execution_count": 15,
   "id": "ed96ac6c-515e-4022-8b70-a0a78991c58c",
   "metadata": {},
   "outputs": [
    {
     "name": "stdout",
     "output_type": "stream",
     "text": [
      "====================================================================================================\n",
      "TABLA DE ESTADÍSTICAS DESCRIPTIVAS - DATASET DE TRIGO SINTÉTICO\n",
      "====================================================================================================\n",
      "                         n    media  desv_estándar   varianza   mínimo      P25      P50      P75      P90      P95   máximo    rango\n",
      "Lluvia_mm          50000.0   454.71         205.10   42065.38   138.32   252.82   525.92   654.86   696.41   718.56   840.79   702.47\n",
      "Horas_luz          50000.0    76.50           9.20      84.70    47.12    68.74    76.54    84.15    88.42    90.63   104.16    57.04\n",
      "Temp_media         50000.0    17.29           2.76       7.61     8.39    15.27    17.28    19.32    20.91    21.75    27.02    18.64\n",
      "Temp_max           50000.0    21.79           2.90       8.40    11.53    19.70    21.78    23.88    25.58    26.53    32.14    20.62\n",
      "Temp_min           50000.0    12.80           2.90       8.40     2.57    10.71    12.80    14.88    16.57    17.52    22.96    20.39\n",
      "N_kg_ha            50000.0   188.17          39.30    1544.23   120.00   154.12   188.31   222.22   242.68   249.28   256.00   136.00\n",
      "P_kg_ha            50000.0    84.98           8.68      75.27    70.00    77.48    84.94    92.54    96.99    98.49   100.00    30.00\n",
      "K_kg_ha            50000.0    90.00           5.77      33.35    80.00    84.98    90.01    95.03    97.96    98.95   100.00    20.00\n",
      "pH                 50000.0     6.80           0.49       0.24     5.80     6.46     6.80     7.14     7.44     7.62     8.50     2.70\n",
      "Rendimiento_kg_ha  50000.0  4931.40         738.12  544827.99  2454.66  4405.68  4975.22  5468.63  5871.77  6081.28  7187.22  4732.56\n",
      "====================================================================================================\n",
      "\n",
      "============================================================\n",
      "DISTRIBUCIÓN DE VARIABLES CATEGÓRICAS\n",
      "============================================================\n",
      "\n",
      "Temporada:\n",
      "  invierno: 25121 registros (50.24%)\n",
      "  primavera: 24879 registros (49.76%)\n",
      "\n",
      "Labranza:\n",
      "  cero labranza: 25025 registros (50.05%)\n",
      "  convencional: 24975 registros (49.95%)\n",
      "\n",
      "Plagas:\n",
      "  no: 40073 registros (80.15%)\n",
      "  sí: 9927 registros (19.85%)\n",
      "\n",
      "Deficiencia:\n",
      "  no: 45143 registros (90.29%)\n",
      "  sí: 4857 registros (9.71%)\n"
     ]
    }
   ],
   "source": [
    "import pandas as pd\n",
    "\n",
    "# ===== Estadísticas de variables numéricas =====\n",
    "numeric_columns = ['Lluvia_mm', 'Horas_luz', 'Temp_media', 'Temp_max', 'Temp_min', \n",
    "                   'N_kg_ha', 'P_kg_ha', 'K_kg_ha', 'pH', 'Rendimiento_kg_ha']\n",
    "numeric_df = df[numeric_columns]\n",
    "\n",
    "# Calcular estadísticas descriptivas\n",
    "stats = numeric_df.describe(percentiles=[.25, .5, .75, .90, .95]).T\n",
    "stats['varianza'] = numeric_df.var()\n",
    "stats['rango'] = stats['max'] - stats['min']\n",
    "\n",
    "# Reorganizar y renombrar columnas\n",
    "stats = stats[['count', 'mean', 'std', 'varianza', 'min', '25%', '50%', '75%', '90%', '95%', 'max', 'rango']]\n",
    "stats.columns = ['n', 'media', 'desv_estándar', 'varianza', 'mínimo', 'P25', 'P50', 'P75', 'P90', 'P95', 'máximo', 'rango']\n",
    "formatted_stats = stats.round(2)\n",
    "\n",
    "# ===== Mostrar tabla de estadísticas numéricas =====\n",
    "line = \"=\"*100\n",
    "print(line)\n",
    "print(\"TABLA DE ESTADÍSTICAS DESCRIPTIVAS - DATASET DE TRIGO SINTÉTICO\")\n",
    "print(line)\n",
    "print(formatted_stats.to_string())\n",
    "print(line)\n",
    "\n",
    "# ===== Distribución de variables categóricas =====\n",
    "categorical_vars = ['Temporada', 'Labranza', 'Plagas', 'Deficiencia']\n",
    "\n",
    "print(\"\\n\" + \"=\"*60)\n",
    "print(\"DISTRIBUCIÓN DE VARIABLES CATEGÓRICAS\")\n",
    "print(\"=\"*60)\n",
    "\n",
    "for var in categorical_vars:\n",
    "    counts = df[var].value_counts()\n",
    "    percentages = (df[var].value_counts(normalize=True) * 100).round(2)\n",
    "    print(f\"\\n{var}:\")\n",
    "    for valor in counts.index:\n",
    "        print(f\"  {valor}: {counts[valor]} registros ({percentages[valor]}%)\")\n"
   ]
  },
  {
   "cell_type": "code",
   "execution_count": null,
   "id": "dc5eadd8-297a-4967-8600-4924119465a1",
   "metadata": {},
   "outputs": [],
   "source": []
  }
 ],
 "metadata": {
  "kernelspec": {
   "display_name": "Python 3 (ipykernel)",
   "language": "python",
   "name": "python3"
  },
  "language_info": {
   "codemirror_mode": {
    "name": "ipython",
    "version": 3
   },
   "file_extension": ".py",
   "mimetype": "text/x-python",
   "name": "python",
   "nbconvert_exporter": "python",
   "pygments_lexer": "ipython3",
   "version": "3.11.9"
  }
 },
 "nbformat": 4,
 "nbformat_minor": 5
}
