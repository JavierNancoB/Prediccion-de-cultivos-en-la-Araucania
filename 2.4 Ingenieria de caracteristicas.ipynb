{
 "cells": [
  {
   "cell_type": "markdown",
   "id": "194e1d47-7234-4f72-8a48-2da81cff88e8",
   "metadata": {},
   "source": [
    "# Ingeniería de características"
   ]
  },
  {
   "cell_type": "markdown",
   "id": "e44c2b0f-3a06-457d-9067-af5abb8518f6",
   "metadata": {},
   "source": [
    "Grupo: 1\n",
    "\n",
    "Estudiantes:\n",
    "\n",
    "-Constanza Olivos Fernandez\n",
    "\n",
    "-Javier Nanco Becerra\n",
    "\n",
    "-Nicolás Pozo Villagrán\n",
    "\n",
    "Fecha: 21-09-2025\n",
    "\n",
    "Version: 1.0"
   ]
  },
  {
   "cell_type": "markdown",
   "id": "84a7cd97",
   "metadata": {},
   "source": [
    "## 📑 README – Features Derivadas – Dataset Sintético de Trigo (La Araucanía)\n",
    "\n",
    "### 1. Descripción\n",
    "Este conjunto de **features derivadas** fue creado a partir del dataset sintético de trigo para mejorar la predicción del rendimiento en **invierno y primavera**.  \n",
    "\n",
    "Las variables se construyeron a partir de condiciones climáticas, nutricionales y de manejo agrícola, con el fin de capturar **patrones adicionales de crecimiento, fertilidad y estrés** que no están explícitos en las variables originales.  \n",
    "\n",
    "---\n",
    "\n",
    "### 2. Features derivadas\n",
    "\n",
    "| **Nombre**            | **Tipo**    | **Descripción**                                   | **Cómo se calcula** | **Justificación / Notas** |\n",
    "|------------------------|-------------|---------------------------------------------------|---------------------|---------------------------|\n",
    "| **GDD_norm**           | Numérica    | Grados-día normalizados por radiación solar       | `GDD / Horas_luz`   | Relaciona calor útil con horas de luz, midiendo la eficiencia térmica de cada temporada. |\n",
    "| **Indice_fertilidad**  | Numérica    | Índice ponderado de nutrientes (N, P, K)          | `0.5*N + 0.3*P + 0.2*K` | Resume la fertilización en una métrica única. Los pesos reflejan mayor importancia del Nitrógeno. |\n",
    "| **Clima_reglas**       | Categórica  | Clasificación climática por reglas simples        | Si `Lluvia > 600` y `Temp_media < 18` → `húmedo_frío`; si `Lluvia < 300` y `Temp_media > 20` → `seco_cálido`; sino → `moderado` | Identifica condiciones extremas que afectan el cultivo. |\n",
    "| **Rango_termico_cat**  | Categórica  | Clasificación del rango térmico                   | `<6` = `estable`; `6–10` = `moderado`; `>10` = `variable` | Permite distinguir temporadas con alta o baja amplitud térmica. |\n",
    "| **Labranza_binary**    | Binaria     | Tipo de labranza codificado                       | `1` si convencional, `0` si cero labranza | Facilita el uso de labranza en modelos de ML. |\n",
    "| **Plagas_binary**      | Binaria     | Presencia de plagas                               | `1` si “sí”, `0` si “no” | Convierte un factor cualitativo en cuantitativo. |\n",
    "| **Deficiencia_binary** | Binaria     | Deficiencia nutricional                           | `1` si “sí”, `0` si “no` | Facilita medir impacto de deficiencias. |\n",
    "| **Problema**           | Numérica    | Total de problemas agrícolas                      | `Plagas_binary + Deficiencia_binary` | Resume en un solo indicador el efecto de plagas y deficiencias. |\n",
    "\n",
    "---\n",
    "\n",
    "### 3. Notas generales\n",
    "- Las **features derivadas** enriquecen el dataset y permiten que los modelos de machine learning detecten patrones no lineales.  \n",
    "- Dado que los datos son solo de **invierno y primavera**, no se incluyeron acumulados de lluvia.  \n",
    "- Se recomienda usar las variables originales **junto con estas derivadas** para el entrenamiento.  \n",
    "- Las variables categóricas (`Clima_reglas`, `Rango_termico_cat`) pueden transformarse a **one-hot encoding** si el modelo lo requiere.  \n"
   ]
  },
  {
   "cell_type": "code",
   "execution_count": 2,
   "id": "17540ff9-3465-4f15-9dc9-3f54aefbef53",
   "metadata": {},
   "outputs": [
    {
     "ename": "FileNotFoundError",
     "evalue": "[Errno 2] No such file or directory: 'csv\\\\Dataset_Demostracion.csv'",
     "output_type": "error",
     "traceback": [
      "\u001b[31m---------------------------------------------------------------------------\u001b[39m",
      "\u001b[31mFileNotFoundError\u001b[39m                         Traceback (most recent call last)",
      "\u001b[36mCell\u001b[39m\u001b[36m \u001b[39m\u001b[32mIn[2]\u001b[39m\u001b[32m, line 9\u001b[39m\n\u001b[32m      5\u001b[39m \u001b[38;5;66;03m# ========================\u001b[39;00m\n\u001b[32m      6\u001b[39m \u001b[38;5;66;03m# Cargar CSV original desde la carpeta 'csv'\u001b[39;00m\n\u001b[32m      7\u001b[39m \u001b[38;5;66;03m# ========================\u001b[39;00m\n\u001b[32m      8\u001b[39m csv_path = os.path.join(\u001b[33m'\u001b[39m\u001b[33mcsv\u001b[39m\u001b[33m'\u001b[39m, \u001b[33m'\u001b[39m\u001b[33mDataset_Demostracion.csv\u001b[39m\u001b[33m'\u001b[39m)\n\u001b[32m----> \u001b[39m\u001b[32m9\u001b[39m df = \u001b[43mpd\u001b[49m\u001b[43m.\u001b[49m\u001b[43mread_csv\u001b[49m\u001b[43m(\u001b[49m\u001b[43mcsv_path\u001b[49m\u001b[43m,\u001b[49m\u001b[43m \u001b[49m\u001b[43msep\u001b[49m\u001b[43m=\u001b[49m\u001b[33;43m'\u001b[39;49m\u001b[33;43m,\u001b[39;49m\u001b[33;43m'\u001b[39;49m\u001b[43m)\u001b[49m\n\u001b[32m     11\u001b[39m \u001b[38;5;66;03m# ========================\u001b[39;00m\n\u001b[32m     12\u001b[39m \u001b[38;5;66;03m# VARIABLES DERIVADAS BÁSICAS\u001b[39;00m\n\u001b[32m     13\u001b[39m \u001b[38;5;66;03m# ========================\u001b[39;00m\n\u001b[32m     14\u001b[39m \n\u001b[32m     15\u001b[39m \u001b[38;5;66;03m# 1. Grados-día de crecimiento normalizado por horas de luz\u001b[39;00m\n\u001b[32m     16\u001b[39m df[\u001b[33m'\u001b[39m\u001b[33mGDD_norm\u001b[39m\u001b[33m'\u001b[39m] = df[\u001b[33m'\u001b[39m\u001b[33mTemp_media\u001b[39m\u001b[33m'\u001b[39m].apply(\u001b[38;5;28;01mlambda\u001b[39;00m x: \u001b[38;5;28mmax\u001b[39m(x - \u001b[32m10\u001b[39m, \u001b[32m0\u001b[39m)) / df[\u001b[33m'\u001b[39m\u001b[33mHoras_luz\u001b[39m\u001b[33m'\u001b[39m]\n",
      "\u001b[36mFile \u001b[39m\u001b[32mD:\\Trabajo\\Trabajos Universitarios\\Semestre_10\\EFE_Inteligencia_Artificial\\Lab_1_Magna\\venv\\Lib\\site-packages\\pandas\\io\\parsers\\readers.py:1026\u001b[39m, in \u001b[36mread_csv\u001b[39m\u001b[34m(filepath_or_buffer, sep, delimiter, header, names, index_col, usecols, dtype, engine, converters, true_values, false_values, skipinitialspace, skiprows, skipfooter, nrows, na_values, keep_default_na, na_filter, verbose, skip_blank_lines, parse_dates, infer_datetime_format, keep_date_col, date_parser, date_format, dayfirst, cache_dates, iterator, chunksize, compression, thousands, decimal, lineterminator, quotechar, quoting, doublequote, escapechar, comment, encoding, encoding_errors, dialect, on_bad_lines, delim_whitespace, low_memory, memory_map, float_precision, storage_options, dtype_backend)\u001b[39m\n\u001b[32m   1013\u001b[39m kwds_defaults = _refine_defaults_read(\n\u001b[32m   1014\u001b[39m     dialect,\n\u001b[32m   1015\u001b[39m     delimiter,\n\u001b[32m   (...)\u001b[39m\u001b[32m   1022\u001b[39m     dtype_backend=dtype_backend,\n\u001b[32m   1023\u001b[39m )\n\u001b[32m   1024\u001b[39m kwds.update(kwds_defaults)\n\u001b[32m-> \u001b[39m\u001b[32m1026\u001b[39m \u001b[38;5;28;01mreturn\u001b[39;00m \u001b[43m_read\u001b[49m\u001b[43m(\u001b[49m\u001b[43mfilepath_or_buffer\u001b[49m\u001b[43m,\u001b[49m\u001b[43m \u001b[49m\u001b[43mkwds\u001b[49m\u001b[43m)\u001b[49m\n",
      "\u001b[36mFile \u001b[39m\u001b[32mD:\\Trabajo\\Trabajos Universitarios\\Semestre_10\\EFE_Inteligencia_Artificial\\Lab_1_Magna\\venv\\Lib\\site-packages\\pandas\\io\\parsers\\readers.py:620\u001b[39m, in \u001b[36m_read\u001b[39m\u001b[34m(filepath_or_buffer, kwds)\u001b[39m\n\u001b[32m    617\u001b[39m _validate_names(kwds.get(\u001b[33m\"\u001b[39m\u001b[33mnames\u001b[39m\u001b[33m\"\u001b[39m, \u001b[38;5;28;01mNone\u001b[39;00m))\n\u001b[32m    619\u001b[39m \u001b[38;5;66;03m# Create the parser.\u001b[39;00m\n\u001b[32m--> \u001b[39m\u001b[32m620\u001b[39m parser = \u001b[43mTextFileReader\u001b[49m\u001b[43m(\u001b[49m\u001b[43mfilepath_or_buffer\u001b[49m\u001b[43m,\u001b[49m\u001b[43m \u001b[49m\u001b[43m*\u001b[49m\u001b[43m*\u001b[49m\u001b[43mkwds\u001b[49m\u001b[43m)\u001b[49m\n\u001b[32m    622\u001b[39m \u001b[38;5;28;01mif\u001b[39;00m chunksize \u001b[38;5;129;01mor\u001b[39;00m iterator:\n\u001b[32m    623\u001b[39m     \u001b[38;5;28;01mreturn\u001b[39;00m parser\n",
      "\u001b[36mFile \u001b[39m\u001b[32mD:\\Trabajo\\Trabajos Universitarios\\Semestre_10\\EFE_Inteligencia_Artificial\\Lab_1_Magna\\venv\\Lib\\site-packages\\pandas\\io\\parsers\\readers.py:1620\u001b[39m, in \u001b[36mTextFileReader.__init__\u001b[39m\u001b[34m(self, f, engine, **kwds)\u001b[39m\n\u001b[32m   1617\u001b[39m     \u001b[38;5;28mself\u001b[39m.options[\u001b[33m\"\u001b[39m\u001b[33mhas_index_names\u001b[39m\u001b[33m\"\u001b[39m] = kwds[\u001b[33m\"\u001b[39m\u001b[33mhas_index_names\u001b[39m\u001b[33m\"\u001b[39m]\n\u001b[32m   1619\u001b[39m \u001b[38;5;28mself\u001b[39m.handles: IOHandles | \u001b[38;5;28;01mNone\u001b[39;00m = \u001b[38;5;28;01mNone\u001b[39;00m\n\u001b[32m-> \u001b[39m\u001b[32m1620\u001b[39m \u001b[38;5;28mself\u001b[39m._engine = \u001b[38;5;28;43mself\u001b[39;49m\u001b[43m.\u001b[49m\u001b[43m_make_engine\u001b[49m\u001b[43m(\u001b[49m\u001b[43mf\u001b[49m\u001b[43m,\u001b[49m\u001b[43m \u001b[49m\u001b[38;5;28;43mself\u001b[39;49m\u001b[43m.\u001b[49m\u001b[43mengine\u001b[49m\u001b[43m)\u001b[49m\n",
      "\u001b[36mFile \u001b[39m\u001b[32mD:\\Trabajo\\Trabajos Universitarios\\Semestre_10\\EFE_Inteligencia_Artificial\\Lab_1_Magna\\venv\\Lib\\site-packages\\pandas\\io\\parsers\\readers.py:1880\u001b[39m, in \u001b[36mTextFileReader._make_engine\u001b[39m\u001b[34m(self, f, engine)\u001b[39m\n\u001b[32m   1878\u001b[39m     \u001b[38;5;28;01mif\u001b[39;00m \u001b[33m\"\u001b[39m\u001b[33mb\u001b[39m\u001b[33m\"\u001b[39m \u001b[38;5;129;01mnot\u001b[39;00m \u001b[38;5;129;01min\u001b[39;00m mode:\n\u001b[32m   1879\u001b[39m         mode += \u001b[33m\"\u001b[39m\u001b[33mb\u001b[39m\u001b[33m\"\u001b[39m\n\u001b[32m-> \u001b[39m\u001b[32m1880\u001b[39m \u001b[38;5;28mself\u001b[39m.handles = \u001b[43mget_handle\u001b[49m\u001b[43m(\u001b[49m\n\u001b[32m   1881\u001b[39m \u001b[43m    \u001b[49m\u001b[43mf\u001b[49m\u001b[43m,\u001b[49m\n\u001b[32m   1882\u001b[39m \u001b[43m    \u001b[49m\u001b[43mmode\u001b[49m\u001b[43m,\u001b[49m\n\u001b[32m   1883\u001b[39m \u001b[43m    \u001b[49m\u001b[43mencoding\u001b[49m\u001b[43m=\u001b[49m\u001b[38;5;28;43mself\u001b[39;49m\u001b[43m.\u001b[49m\u001b[43moptions\u001b[49m\u001b[43m.\u001b[49m\u001b[43mget\u001b[49m\u001b[43m(\u001b[49m\u001b[33;43m\"\u001b[39;49m\u001b[33;43mencoding\u001b[39;49m\u001b[33;43m\"\u001b[39;49m\u001b[43m,\u001b[49m\u001b[43m \u001b[49m\u001b[38;5;28;43;01mNone\u001b[39;49;00m\u001b[43m)\u001b[49m\u001b[43m,\u001b[49m\n\u001b[32m   1884\u001b[39m \u001b[43m    \u001b[49m\u001b[43mcompression\u001b[49m\u001b[43m=\u001b[49m\u001b[38;5;28;43mself\u001b[39;49m\u001b[43m.\u001b[49m\u001b[43moptions\u001b[49m\u001b[43m.\u001b[49m\u001b[43mget\u001b[49m\u001b[43m(\u001b[49m\u001b[33;43m\"\u001b[39;49m\u001b[33;43mcompression\u001b[39;49m\u001b[33;43m\"\u001b[39;49m\u001b[43m,\u001b[49m\u001b[43m \u001b[49m\u001b[38;5;28;43;01mNone\u001b[39;49;00m\u001b[43m)\u001b[49m\u001b[43m,\u001b[49m\n\u001b[32m   1885\u001b[39m \u001b[43m    \u001b[49m\u001b[43mmemory_map\u001b[49m\u001b[43m=\u001b[49m\u001b[38;5;28;43mself\u001b[39;49m\u001b[43m.\u001b[49m\u001b[43moptions\u001b[49m\u001b[43m.\u001b[49m\u001b[43mget\u001b[49m\u001b[43m(\u001b[49m\u001b[33;43m\"\u001b[39;49m\u001b[33;43mmemory_map\u001b[39;49m\u001b[33;43m\"\u001b[39;49m\u001b[43m,\u001b[49m\u001b[43m \u001b[49m\u001b[38;5;28;43;01mFalse\u001b[39;49;00m\u001b[43m)\u001b[49m\u001b[43m,\u001b[49m\n\u001b[32m   1886\u001b[39m \u001b[43m    \u001b[49m\u001b[43mis_text\u001b[49m\u001b[43m=\u001b[49m\u001b[43mis_text\u001b[49m\u001b[43m,\u001b[49m\n\u001b[32m   1887\u001b[39m \u001b[43m    \u001b[49m\u001b[43merrors\u001b[49m\u001b[43m=\u001b[49m\u001b[38;5;28;43mself\u001b[39;49m\u001b[43m.\u001b[49m\u001b[43moptions\u001b[49m\u001b[43m.\u001b[49m\u001b[43mget\u001b[49m\u001b[43m(\u001b[49m\u001b[33;43m\"\u001b[39;49m\u001b[33;43mencoding_errors\u001b[39;49m\u001b[33;43m\"\u001b[39;49m\u001b[43m,\u001b[49m\u001b[43m \u001b[49m\u001b[33;43m\"\u001b[39;49m\u001b[33;43mstrict\u001b[39;49m\u001b[33;43m\"\u001b[39;49m\u001b[43m)\u001b[49m\u001b[43m,\u001b[49m\n\u001b[32m   1888\u001b[39m \u001b[43m    \u001b[49m\u001b[43mstorage_options\u001b[49m\u001b[43m=\u001b[49m\u001b[38;5;28;43mself\u001b[39;49m\u001b[43m.\u001b[49m\u001b[43moptions\u001b[49m\u001b[43m.\u001b[49m\u001b[43mget\u001b[49m\u001b[43m(\u001b[49m\u001b[33;43m\"\u001b[39;49m\u001b[33;43mstorage_options\u001b[39;49m\u001b[33;43m\"\u001b[39;49m\u001b[43m,\u001b[49m\u001b[43m \u001b[49m\u001b[38;5;28;43;01mNone\u001b[39;49;00m\u001b[43m)\u001b[49m\u001b[43m,\u001b[49m\n\u001b[32m   1889\u001b[39m \u001b[43m\u001b[49m\u001b[43m)\u001b[49m\n\u001b[32m   1890\u001b[39m \u001b[38;5;28;01massert\u001b[39;00m \u001b[38;5;28mself\u001b[39m.handles \u001b[38;5;129;01mis\u001b[39;00m \u001b[38;5;129;01mnot\u001b[39;00m \u001b[38;5;28;01mNone\u001b[39;00m\n\u001b[32m   1891\u001b[39m f = \u001b[38;5;28mself\u001b[39m.handles.handle\n",
      "\u001b[36mFile \u001b[39m\u001b[32mD:\\Trabajo\\Trabajos Universitarios\\Semestre_10\\EFE_Inteligencia_Artificial\\Lab_1_Magna\\venv\\Lib\\site-packages\\pandas\\io\\common.py:873\u001b[39m, in \u001b[36mget_handle\u001b[39m\u001b[34m(path_or_buf, mode, encoding, compression, memory_map, is_text, errors, storage_options)\u001b[39m\n\u001b[32m    868\u001b[39m \u001b[38;5;28;01melif\u001b[39;00m \u001b[38;5;28misinstance\u001b[39m(handle, \u001b[38;5;28mstr\u001b[39m):\n\u001b[32m    869\u001b[39m     \u001b[38;5;66;03m# Check whether the filename is to be opened in binary mode.\u001b[39;00m\n\u001b[32m    870\u001b[39m     \u001b[38;5;66;03m# Binary mode does not support 'encoding' and 'newline'.\u001b[39;00m\n\u001b[32m    871\u001b[39m     \u001b[38;5;28;01mif\u001b[39;00m ioargs.encoding \u001b[38;5;129;01mand\u001b[39;00m \u001b[33m\"\u001b[39m\u001b[33mb\u001b[39m\u001b[33m\"\u001b[39m \u001b[38;5;129;01mnot\u001b[39;00m \u001b[38;5;129;01min\u001b[39;00m ioargs.mode:\n\u001b[32m    872\u001b[39m         \u001b[38;5;66;03m# Encoding\u001b[39;00m\n\u001b[32m--> \u001b[39m\u001b[32m873\u001b[39m         handle = \u001b[38;5;28;43mopen\u001b[39;49m\u001b[43m(\u001b[49m\n\u001b[32m    874\u001b[39m \u001b[43m            \u001b[49m\u001b[43mhandle\u001b[49m\u001b[43m,\u001b[49m\n\u001b[32m    875\u001b[39m \u001b[43m            \u001b[49m\u001b[43mioargs\u001b[49m\u001b[43m.\u001b[49m\u001b[43mmode\u001b[49m\u001b[43m,\u001b[49m\n\u001b[32m    876\u001b[39m \u001b[43m            \u001b[49m\u001b[43mencoding\u001b[49m\u001b[43m=\u001b[49m\u001b[43mioargs\u001b[49m\u001b[43m.\u001b[49m\u001b[43mencoding\u001b[49m\u001b[43m,\u001b[49m\n\u001b[32m    877\u001b[39m \u001b[43m            \u001b[49m\u001b[43merrors\u001b[49m\u001b[43m=\u001b[49m\u001b[43merrors\u001b[49m\u001b[43m,\u001b[49m\n\u001b[32m    878\u001b[39m \u001b[43m            \u001b[49m\u001b[43mnewline\u001b[49m\u001b[43m=\u001b[49m\u001b[33;43m\"\u001b[39;49m\u001b[33;43m\"\u001b[39;49m\u001b[43m,\u001b[49m\n\u001b[32m    879\u001b[39m \u001b[43m        \u001b[49m\u001b[43m)\u001b[49m\n\u001b[32m    880\u001b[39m     \u001b[38;5;28;01melse\u001b[39;00m:\n\u001b[32m    881\u001b[39m         \u001b[38;5;66;03m# Binary mode\u001b[39;00m\n\u001b[32m    882\u001b[39m         handle = \u001b[38;5;28mopen\u001b[39m(handle, ioargs.mode)\n",
      "\u001b[31mFileNotFoundError\u001b[39m: [Errno 2] No such file or directory: 'csv\\\\Dataset_Demostracion.csv'"
     ]
    }
   ],
   "source": [
    "import pandas as pd\n",
    "import numpy as np\n",
    "import os\n",
    "\n",
    "# ========================\n",
    "# Cargar CSV original desde la carpeta 'csv'\n",
    "# ========================\n",
    "csv_path = os.path.join('csv', 'Dataset_Demostracion.csv')\n",
    "df = pd.read_csv(csv_path, sep=',')\n",
    "\n",
    "# ========================\n",
    "# VARIABLES DERIVADAS BÁSICAS\n",
    "# ========================\n",
    "\n",
    "# 1. Grados-día de crecimiento normalizado por horas de luz\n",
    "df['GDD_norm'] = df['Temp_media'].apply(lambda x: max(x - 10, 0)) / df['Horas_luz']\n",
    "\n",
    "# 2. Fertilidad total ponderada\n",
    "df['Indice_fertilidad'] = 0.5*df['N_kg_ha'] + 0.3*df['P_kg_ha'] + 0.2*df['K_kg_ha']\n",
    "\n",
    "# 3. Categoría de clima según reglas simples\n",
    "def clasificar_clima(row):\n",
    "    if row['Lluvia_mm'] > 600 and row['Temp_media'] < 18:\n",
    "        return 'húmedo_frío'\n",
    "    elif row['Lluvia_mm'] < 300 and row['Temp_media'] > 20:\n",
    "        return 'seco_calido'\n",
    "    else:\n",
    "        return 'moderado'\n",
    "df['Clima_reglas'] = df.apply(clasificar_clima, axis=1)\n",
    "\n",
    "# 4. Rango térmico\n",
    "df['Rango_termico'] = df['Temp_max'] - df['Temp_min']\n",
    "\n",
    "# 5. Rango térmico categorizado\n",
    "def categorizar_rango(rango):\n",
    "    if rango < 6:\n",
    "        return 'estable'\n",
    "    elif rango <= 10:\n",
    "        return 'moderado'\n",
    "    else:\n",
    "        return 'variable'\n",
    "df['Rango_termico_cat'] = df['Rango_termico'].apply(categorizar_rango)\n",
    "\n",
    "# ========================\n",
    "# VARIABLES BINARIAS\n",
    "# ========================\n",
    "df['Labranza_binary'] = df['Labranza'].apply(lambda x: 1 if x=='convencional' else 0)\n",
    "df['Plagas_binary'] = df['Plagas'].apply(lambda x: 1 if x=='sí' else 0)\n",
    "df['Deficiencia_binary'] = df['Deficiencia'].apply(lambda x: 1 if x=='sí' else 0)\n",
    "df['Problema'] = df['Plagas_binary'] + df['Deficiencia_binary']\n",
    "\n",
    "# ========================\n",
    "# Guardar CSV final con todas las features derivadas en la misma carpeta 'csv'\n",
    "# ========================\n",
    "output_path = os.path.join('csv', 'trigo.csv')\n",
    "df.to_csv(output_path, index=False)\n",
    "print(\"✅ CSV con features derivadas creado y listo para modelos de ML.\")\n"
   ]
  },
  {
   "cell_type": "code",
   "execution_count": null,
   "id": "342a8c08",
   "metadata": {},
   "outputs": [],
   "source": []
  }
 ],
 "metadata": {
  "kernelspec": {
   "display_name": "Python 3 (ipykernel)",
   "language": "python",
   "name": "python3"
  },
  "language_info": {
   "codemirror_mode": {
    "name": "ipython",
    "version": 3
   },
   "file_extension": ".py",
   "mimetype": "text/x-python",
   "name": "python",
   "nbconvert_exporter": "python",
   "pygments_lexer": "ipython3",
   "version": "3.11.9"
  }
 },
 "nbformat": 4,
 "nbformat_minor": 5
}
