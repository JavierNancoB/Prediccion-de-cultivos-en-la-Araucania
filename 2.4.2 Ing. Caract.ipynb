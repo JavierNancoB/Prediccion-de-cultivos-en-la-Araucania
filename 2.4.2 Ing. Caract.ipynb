{
 "cells": [
  {
   "cell_type": "code",
   "execution_count": 2,
   "id": "84493ce3-e9f4-44c4-9cb1-077dae78f703",
   "metadata": {},
   "outputs": [
    {
     "name": "stdout",
     "output_type": "stream",
     "text": [
      "✅ CSV con features derivadas creado y listo para modelos de ML.\n"
     ]
    }
   ],
   "source": [
    "import pandas as pd\n",
    "import numpy as np\n",
    "import os\n",
    "\n",
    "# ========================\n",
    "# Cargar CSV original desde la carpeta 'csv'\n",
    "# ========================\n",
    "csv_path = os.path.join('deprecated', 'Dataset_Demostracion.csv')\n",
    "df = pd.read_csv(csv_path, sep=',')\n",
    "\n",
    "# ========================\n",
    "# VARIABLES DERIVADAS BÁSICAS\n",
    "# ========================\n",
    "\n",
    "# 1. Grados-día de crecimiento normalizado por horas de luz\n",
    "df['GDD_norm'] = df['Temp_media'].apply(lambda x: max(x - 10, 0)) / df['Horas_luz']\n",
    "\n",
    "# 2. Fertilidad total ponderada\n",
    "df['Indice_fertilidad'] = 0.5*df['N_kg_ha'] + 0.3*df['P_kg_ha'] + 0.2*df['K_kg_ha']\n",
    "\n",
    "# 3. Categoría de clima según reglas simples\n",
    "def clasificar_clima(row):\n",
    "    if row['Lluvia_mm'] > 600 and row['Temp_media'] < 18:\n",
    "        return 'húmedo_frío'\n",
    "    elif row['Lluvia_mm'] < 300 and row['Temp_media'] > 20:\n",
    "        return 'seco_calido'\n",
    "    else:\n",
    "        return 'moderado'\n",
    "df['Clima_reglas'] = df.apply(clasificar_clima, axis=1)\n",
    "\n",
    "# 4. Rango térmico\n",
    "df['Rango_termico'] = df['Temp_max'] - df['Temp_min']\n",
    "\n",
    "# 5. Rango térmico categorizado\n",
    "def categorizar_rango(rango):\n",
    "    if rango < 6:\n",
    "        return 'estable'\n",
    "    elif rango <= 10:\n",
    "        return 'moderado'\n",
    "    else:\n",
    "        return 'variable'\n",
    "df['Rango_termico_cat'] = df['Rango_termico'].apply(categorizar_rango)\n",
    "\n",
    "# ========================\n",
    "# VARIABLES BINARIAS\n",
    "# ========================\n",
    "df['Labranza_binary'] = df['Labranza'].apply(lambda x: 1 if x=='convencional' else 0)\n",
    "df['Plagas_binary'] = df['Plagas'].apply(lambda x: 1 if x=='sí' else 0)\n",
    "df['Deficiencia_binary'] = df['Deficiencia'].apply(lambda x: 1 if x=='sí' else 0)\n",
    "df['Problema'] = df['Plagas_binary'] + df['Deficiencia_binary']\n",
    "\n",
    "# ========================\n",
    "# Guardar CSV final con todas las features derivadas en la misma carpeta 'csv'\n",
    "# ========================\n",
    "output_path = os.path.join('csv', 'features_trigo2.csv')\n",
    "df.to_csv(output_path, index=False)\n",
    "print(\"✅ CSV con features derivadas creado y listo para modelos de ML.\")"
   ]
  },
  {
   "cell_type": "code",
   "execution_count": null,
   "id": "a823e6fd-6c15-47ec-9a51-f4ce1c40dd58",
   "metadata": {},
   "outputs": [],
   "source": []
  },
  {
   "cell_type": "code",
   "execution_count": null,
   "id": "0a22ed5b-c581-48b4-86f8-bc7835b941e8",
   "metadata": {},
   "outputs": [],
   "source": []
  }
 ],
 "metadata": {
  "kernelspec": {
   "display_name": "Python 3 (ipykernel)",
   "language": "python",
   "name": "python3"
  },
  "language_info": {
   "codemirror_mode": {
    "name": "ipython",
    "version": 3
   },
   "file_extension": ".py",
   "mimetype": "text/x-python",
   "name": "python",
   "nbconvert_exporter": "python",
   "pygments_lexer": "ipython3",
   "version": "3.11.9"
  }
 },
 "nbformat": 4,
 "nbformat_minor": 5
}
